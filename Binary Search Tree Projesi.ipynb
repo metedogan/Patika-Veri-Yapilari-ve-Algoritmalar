{
 "cells": [
  {
   "cell_type": "code",
   "execution_count": null,
   "metadata": {},
   "outputs": [],
   "source": [
    "SORU: [7, 5, 1, 8, 3, 6, 0, 9, 4, 2] dizisinin Binary-Search-Tree aşamalarını yazınız."
   ]
  },
  {
   "cell_type": "code",
   "execution_count": null,
   "metadata": {},
   "outputs": [],
   "source": [
    "                                    7\n",
    "                                  /   \\\n",
    "                                 /     \\\n",
    "                                5       8\n",
    "                               /  \\      \\\n",
    "                              /    6      \\\n",
    "                             1             9\n",
    "                            / \\\n",
    "                           /   \\\n",
    "                          0     3\n",
    "                               / \\\n",
    "                              2   4 "
   ]
  }
 ],
 "metadata": {
  "kernelspec": {
   "display_name": "Python 3.9.12 ('base')",
   "language": "python",
   "name": "python3"
  },
  "language_info": {
   "name": "python",
   "version": "3.9.12"
  },
  "orig_nbformat": 4,
  "vscode": {
   "interpreter": {
    "hash": "ad2bdc8ecc057115af97d19610ffacc2b4e99fae6737bb82f5d7fb13d2f2c186"
   }
  }
 },
 "nbformat": 4,
 "nbformat_minor": 2
}
