{
 "cells": [
  {
   "cell_type": "markdown",
   "metadata": {},
   "source": [
    "Soru-1: \n",
    "[22,27,16,2,18,6] -> Insertion Sort i- Yukarı verilen dizinin sort türüne göre aşamalarını yazınız. ii- Big-O gösterimini yazınız. iii- Time Complexity: Average case: Aradığımız sayının ortada olması,Worst case: Aradığımız sayının sonda olması, Best case: Aradığımız sayının dAizinin en başında olması. iv- Dizi sıralandıktan sonra 18 sayısı hangi case kapsamına girer? Yazınız.\n",
    "\n",
    "Cevap-1: \n",
    "i- {2, 27, 16, 22, 18, 6} {2, 6, 16, 22, 18, 27} {2, 6, 16, 18, 22, 27}\n",
    "ii- O(n^2)\n",
    "iii- Time Complexity: Avarage case\n",
    "iv- Dizi sıralandıktan sonra 18 sayısı avarage case kapsamına girer."
   ]
  },
  {
   "cell_type": "markdown",
   "metadata": {},
   "source": [
    "Soru-2:\n",
    "[7,3,5,8,2,9,4,15,6] dizisinin Insertion Sort'a göre ilk 4 adımını yazınız.\n",
    "\n",
    "Cevap-2:\n",
    "i- {2, 3, 5, 8, 7, 9, 4, 15, 6}\n",
    "ii- {2, 3, 4, 8, 7, 9, 5, 15, 6} \n",
    "iii- {2, 3, 4, 5, 7, 9, 8, 15, 6} \n",
    "iv- {2, 3, 4, 5, 6, 9, 8, 15, 7}"
   ]
  }
 ],
 "metadata": {
  "kernelspec": {
   "display_name": "Python 3.10.1 64-bit",
   "language": "python",
   "name": "python3"
  },
  "language_info": {
   "codemirror_mode": {
    "name": "ipython",
    "version": 3
   },
   "file_extension": ".py",
   "mimetype": "text/x-python",
   "name": "python",
   "nbconvert_exporter": "python",
   "pygments_lexer": "ipython3",
   "version": "3.10.1"
  },
  "orig_nbformat": 4,
  "vscode": {
   "interpreter": {
    "hash": "f2ccb58c476f33ba3e3aee7ac07234ef6b8217ef24ad64d2a7d4fed1a57c1cd2"
   }
  }
 },
 "nbformat": 4,
 "nbformat_minor": 2
}
