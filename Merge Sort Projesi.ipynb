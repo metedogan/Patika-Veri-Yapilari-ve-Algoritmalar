{
 "cells": [
  {
   "cell_type": "code",
   "execution_count": null,
   "metadata": {},
   "outputs": [],
   "source": [
    "Bu proje Patika platformunun Veri Yapıları ve Algoritmalar eğitimi için oluşturulmuştur.\n",
    "\n",
    "SORU: [16,21,11,8,12,22] -> Merge Sort\n",
    "\n",
    "Yukarıdaki dizinin sort türüne göre aşamalarını yazınız. Big-O gösterimini yazınız\n",
    "\n",
    "CEVAP:\n",
    "\n",
    "i. {16, 21, 11} {8, 12, 22}\n",
    "\n",
    "ii. {16, 21} {11} {8} {12, 22}\n",
    "\n",
    "iii. {16} {21} {11} {8} {12} {22}\n",
    "\n",
    "iv. {16} {11, 21} {8} {12, 22}\n",
    "\n",
    "v. {11, 16, 21} {8, 12, 22}\n",
    "\n",
    "vi. {8, 11, 12, 16, 21, 22}\n",
    "\n",
    "Big-O: O(nlogn)"
   ]
  }
 ],
 "metadata": {
  "kernelspec": {
   "display_name": "Python 3.9.12 ('base')",
   "language": "python",
   "name": "python3"
  },
  "language_info": {
   "name": "python",
   "version": "3.9.12"
  },
  "orig_nbformat": 4,
  "vscode": {
   "interpreter": {
    "hash": "ad2bdc8ecc057115af97d19610ffacc2b4e99fae6737bb82f5d7fb13d2f2c186"
   }
  }
 },
 "nbformat": 4,
 "nbformat_minor": 2
}
